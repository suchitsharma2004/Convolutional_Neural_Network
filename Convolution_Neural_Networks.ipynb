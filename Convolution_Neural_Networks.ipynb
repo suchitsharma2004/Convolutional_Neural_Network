{
 "cells": [
  {
   "cell_type": "code",
   "execution_count": 1,
   "id": "18d6f24f",
   "metadata": {},
   "outputs": [],
   "source": [
    "import tensorflow as tf\n",
    "from keras.preprocessing.image import ImageDataGenerator"
   ]
  },
  {
   "cell_type": "code",
   "execution_count": 2,
   "id": "6fde7de2",
   "metadata": {},
   "outputs": [
    {
     "name": "stdout",
     "output_type": "stream",
     "text": [
      "Found 8000 images belonging to 2 classes.\n"
     ]
    }
   ],
   "source": [
    "train_datagen = ImageDataGenerator(rescale = 1./255,   #feature scaling\n",
    "                                   shear_range = 0.2,  #transforming data to avoid overfitting in line 2,3 and 4\n",
    "                                   zoom_range = 0.2,\n",
    "                                   horizontal_flip = True)\n",
    "training_set = train_datagen.flow_from_directory('/Users/suchitsharma/Downloads/dataset/training_set',\n",
    "                                                 target_size = (64, 64),\n",
    "                                                 batch_size = 32,\n",
    "                                                 class_mode = 'binary')"
   ]
  },
  {
   "cell_type": "code",
   "execution_count": 3,
   "id": "0c4e3a7b",
   "metadata": {},
   "outputs": [
    {
     "name": "stdout",
     "output_type": "stream",
     "text": [
      "Found 2000 images belonging to 2 classes.\n"
     ]
    }
   ],
   "source": [
    "test_datagen = ImageDataGenerator(rescale = 1./255)\n",
    "test_set = test_datagen.flow_from_directory('/Users/suchitsharma/Downloads/dataset/test_set',\n",
    "                                            target_size = (64, 64),\n",
    "                                            batch_size = 32,\n",
    "                                            class_mode = 'binary')"
   ]
  },
  {
   "cell_type": "code",
   "execution_count": 4,
   "id": "c00044cc",
   "metadata": {},
   "outputs": [],
   "source": [
    "cnn = tf.keras.models.Sequential()"
   ]
  },
  {
   "cell_type": "code",
   "execution_count": 5,
   "id": "4f05a9d7",
   "metadata": {},
   "outputs": [],
   "source": [
    "cnn.add(tf.keras.layers.Conv2D(filters=32, kernel_size=3, activation='relu', input_shape=[64, 64, 3]))"
   ]
  },
  {
   "cell_type": "code",
   "execution_count": 6,
   "id": "dca30a5c",
   "metadata": {},
   "outputs": [],
   "source": [
    "cnn.add(tf.keras.layers.MaxPool2D(pool_size=2, strides=2))"
   ]
  },
  {
   "cell_type": "code",
   "execution_count": 7,
   "id": "53b7a4db",
   "metadata": {},
   "outputs": [],
   "source": [
    "cnn.add(tf.keras.layers.Conv2D(filters=32, kernel_size=3, activation='relu'))\n",
    "cnn.add(tf.keras.layers.MaxPool2D(pool_size=2, strides=2))"
   ]
  },
  {
   "cell_type": "code",
   "execution_count": 8,
   "id": "af4f0ddd",
   "metadata": {},
   "outputs": [],
   "source": [
    "cnn.add(tf.keras.layers.Flatten())"
   ]
  },
  {
   "cell_type": "code",
   "execution_count": 9,
   "id": "411beb78",
   "metadata": {},
   "outputs": [],
   "source": [
    "cnn.add(tf.keras.layers.Dense(units=128, activation='relu'))"
   ]
  },
  {
   "cell_type": "code",
   "execution_count": 10,
   "id": "9dc3a40a",
   "metadata": {},
   "outputs": [],
   "source": [
    "cnn.add(tf.keras.layers.Dense(units=1, activation='sigmoid'))"
   ]
  },
  {
   "cell_type": "code",
   "execution_count": 11,
   "id": "5965fecc",
   "metadata": {},
   "outputs": [],
   "source": [
    "cnn.compile(optimizer = 'adam', loss = 'binary_crossentropy', metrics = ['accuracy'])"
   ]
  },
  {
   "cell_type": "code",
   "execution_count": 12,
   "id": "dc22232e",
   "metadata": {},
   "outputs": [
    {
     "name": "stdout",
     "output_type": "stream",
     "text": [
      "Epoch 1/25\n",
      "250/250 [==============================] - 27s 105ms/step - loss: 0.6810 - accuracy: 0.5644 - val_loss: 0.6338 - val_accuracy: 0.6360\n",
      "Epoch 2/25\n",
      "250/250 [==============================] - 28s 111ms/step - loss: 0.6100 - accuracy: 0.6684 - val_loss: 0.5682 - val_accuracy: 0.7075\n",
      "Epoch 3/25\n",
      "250/250 [==============================] - 28s 112ms/step - loss: 0.5565 - accuracy: 0.7165 - val_loss: 0.5386 - val_accuracy: 0.7320\n",
      "Epoch 4/25\n",
      "250/250 [==============================] - 28s 111ms/step - loss: 0.5269 - accuracy: 0.7391 - val_loss: 0.5475 - val_accuracy: 0.7200\n",
      "Epoch 5/25\n",
      "250/250 [==============================] - 27s 108ms/step - loss: 0.5027 - accuracy: 0.7531 - val_loss: 0.5413 - val_accuracy: 0.7375\n",
      "Epoch 6/25\n",
      "250/250 [==============================] - 27s 108ms/step - loss: 0.4826 - accuracy: 0.7680 - val_loss: 0.4789 - val_accuracy: 0.7800\n",
      "Epoch 7/25\n",
      "250/250 [==============================] - 27s 108ms/step - loss: 0.4664 - accuracy: 0.7756 - val_loss: 0.4637 - val_accuracy: 0.7910\n",
      "Epoch 8/25\n",
      "250/250 [==============================] - 27s 110ms/step - loss: 0.4528 - accuracy: 0.7860 - val_loss: 0.4798 - val_accuracy: 0.7690\n",
      "Epoch 9/25\n",
      "250/250 [==============================] - 26s 103ms/step - loss: 0.4346 - accuracy: 0.7975 - val_loss: 0.4844 - val_accuracy: 0.7860\n",
      "Epoch 10/25\n",
      "250/250 [==============================] - 27s 108ms/step - loss: 0.4292 - accuracy: 0.7997 - val_loss: 0.4609 - val_accuracy: 0.7865\n",
      "Epoch 11/25\n",
      "250/250 [==============================] - 26s 105ms/step - loss: 0.4141 - accuracy: 0.8065 - val_loss: 0.5312 - val_accuracy: 0.7550\n",
      "Epoch 12/25\n",
      "250/250 [==============================] - 28s 114ms/step - loss: 0.4037 - accuracy: 0.8163 - val_loss: 0.4770 - val_accuracy: 0.7805\n",
      "Epoch 13/25\n",
      "250/250 [==============================] - 27s 106ms/step - loss: 0.4000 - accuracy: 0.8189 - val_loss: 0.4632 - val_accuracy: 0.7870\n",
      "Epoch 14/25\n",
      "250/250 [==============================] - 26s 106ms/step - loss: 0.3768 - accuracy: 0.8295 - val_loss: 0.4558 - val_accuracy: 0.7990\n",
      "Epoch 15/25\n",
      "250/250 [==============================] - 26s 106ms/step - loss: 0.3663 - accuracy: 0.8296 - val_loss: 0.5614 - val_accuracy: 0.7590\n",
      "Epoch 16/25\n",
      "250/250 [==============================] - 28s 113ms/step - loss: 0.3564 - accuracy: 0.8384 - val_loss: 0.4532 - val_accuracy: 0.8075\n",
      "Epoch 17/25\n",
      "250/250 [==============================] - 27s 108ms/step - loss: 0.3434 - accuracy: 0.8494 - val_loss: 0.4340 - val_accuracy: 0.8110\n",
      "Epoch 18/25\n",
      "250/250 [==============================] - 27s 106ms/step - loss: 0.3296 - accuracy: 0.8510 - val_loss: 0.4514 - val_accuracy: 0.8060\n",
      "Epoch 19/25\n",
      "250/250 [==============================] - 27s 107ms/step - loss: 0.3258 - accuracy: 0.8541 - val_loss: 0.4757 - val_accuracy: 0.7910\n",
      "Epoch 20/25\n",
      "250/250 [==============================] - 30s 118ms/step - loss: 0.3107 - accuracy: 0.8637 - val_loss: 0.4699 - val_accuracy: 0.7925\n",
      "Epoch 21/25\n",
      "250/250 [==============================] - 27s 109ms/step - loss: 0.3011 - accuracy: 0.8673 - val_loss: 0.4623 - val_accuracy: 0.7870\n",
      "Epoch 22/25\n",
      "250/250 [==============================] - 26s 105ms/step - loss: 0.2890 - accuracy: 0.8764 - val_loss: 0.4425 - val_accuracy: 0.8210\n",
      "Epoch 23/25\n",
      "250/250 [==============================] - 28s 110ms/step - loss: 0.2763 - accuracy: 0.8819 - val_loss: 0.4956 - val_accuracy: 0.7990\n",
      "Epoch 24/25\n",
      "250/250 [==============================] - 28s 114ms/step - loss: 0.2658 - accuracy: 0.8878 - val_loss: 0.4726 - val_accuracy: 0.8140\n",
      "Epoch 25/25\n",
      "250/250 [==============================] - 26s 104ms/step - loss: 0.2611 - accuracy: 0.8875 - val_loss: 0.5020 - val_accuracy: 0.8060\n"
     ]
    },
    {
     "data": {
      "text/plain": [
       "<keras.src.callbacks.History at 0x15743e830>"
      ]
     },
     "execution_count": 12,
     "metadata": {},
     "output_type": "execute_result"
    }
   ],
   "source": [
    "cnn.fit(x = training_set, validation_data = test_set, epochs = 25)"
   ]
  },
  {
   "cell_type": "code",
   "execution_count": 19,
   "id": "770d282b",
   "metadata": {},
   "outputs": [
    {
     "name": "stdout",
     "output_type": "stream",
     "text": [
      "1/1 [==============================] - 0s 15ms/step\n"
     ]
    }
   ],
   "source": [
    "import numpy as np\n",
    "from keras.preprocessing import image\n",
    "test_image = image.load_img('/Users/suchitsharma/Downloads/dataset/single_prediction/cat.4084.jpg', target_size = (64, 64))\n",
    "test_image = image.img_to_array(test_image)\n",
    "test_image = np.expand_dims(test_image, axis = 0)\n",
    "result = cnn.predict(test_image)\n",
    "training_set.class_indices\n",
    "if result[0][0] == 1:\n",
    "  prediction = 'dog'\n",
    "else:\n",
    "  prediction = 'cat'"
   ]
  },
  {
   "cell_type": "code",
   "execution_count": 20,
   "id": "860fabf5",
   "metadata": {},
   "outputs": [
    {
     "name": "stdout",
     "output_type": "stream",
     "text": [
      "cat\n"
     ]
    }
   ],
   "source": [
    "print(prediction)"
   ]
  },
  {
   "cell_type": "code",
   "execution_count": null,
   "id": "151b2cab",
   "metadata": {},
   "outputs": [],
   "source": []
  }
 ],
 "metadata": {
  "kernelspec": {
   "display_name": "Python 3 (ipykernel)",
   "language": "python",
   "name": "python3"
  },
  "language_info": {
   "codemirror_mode": {
    "name": "ipython",
    "version": 3
   },
   "file_extension": ".py",
   "mimetype": "text/x-python",
   "name": "python",
   "nbconvert_exporter": "python",
   "pygments_lexer": "ipython3",
   "version": "3.10.9"
  }
 },
 "nbformat": 4,
 "nbformat_minor": 5
}
